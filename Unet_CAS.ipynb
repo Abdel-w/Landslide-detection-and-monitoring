{
 "cells": [
  {
   "metadata": {},
   "cell_type": "markdown",
   "source": [
    "# Train U-Net on the CAS Landslide Detection Dataset\n",
    "\n",
    "*Authors: Abdelouahed Drissi*"
   ],
   "id": "b24639b8faae326b"
  },
  {
   "metadata": {},
   "cell_type": "markdown",
   "source": "## Dataset",
   "id": "bd14e6d4dca9b41c"
  },
  {
   "metadata": {
    "ExecuteTime": {
     "end_time": "2024-11-10T13:39:01.100772Z",
     "start_time": "2024-11-10T13:38:47.998663Z"
    }
   },
   "cell_type": "code",
   "source": [
    "import os\n",
    "import tensorflow as tf\n",
    "from tensorflow.keras import backend\n",
    "import matplotlib.pyplot as plt\n",
    "\n",
    "from tensorflow.keras.layers import Input, Conv2D, MaxPooling2D, UpSampling2D, concatenate, Conv2DTranspose, BatchNormalization, Dropout, Lambda\n",
    "\n",
    "from tensorflow import keras\n",
    "from tensorflow.keras.models import Model\n",
    "from tensorflow.keras.optimizers import Adam\n",
    "from losses import dice_loss"
   ],
   "id": "f2aa39bf640a894a",
   "outputs": [],
   "execution_count": 1
  },
  {
   "metadata": {},
   "cell_type": "markdown",
   "source": "### Function to read the image file",
   "id": "ef25cc1ce83653cc"
  },
  {
   "metadata": {
    "ExecuteTime": {
     "end_time": "2024-11-10T13:40:11.137802Z",
     "start_time": "2024-11-10T13:40:11.130771Z"
    }
   },
   "cell_type": "code",
   "source": [
    "def load_image_file(image_path, mask_path):\n",
    "    image = tf.io.read_file(image_path)\n",
    "    mask = tf.io.read_file(mask_path)\n",
    "\n",
    "    image = tf.image.decode_png(image, channels=3)\n",
    "    mask = tf.image.decode_png(mask, channels=1)\n",
    "\n",
    "    return {\"image\": image, \"segmentation_mask\": mask}"
   ],
   "id": "7c131a4749b15ef0",
   "outputs": [],
   "execution_count": 2
  },
  {
   "metadata": {},
   "cell_type": "markdown",
   "source": "### Loading the dataset",
   "id": "9bb40aa18495e789"
  },
  {
   "metadata": {
    "ExecuteTime": {
     "end_time": "2024-11-10T13:41:10.236546Z",
     "start_time": "2024-11-10T13:40:13.941683Z"
    }
   },
   "cell_type": "code",
   "source": [
    "# Dataset paths\n",
    "train_image_dir = \"./dataset/train/images\"\n",
    "train_mask_dir = \"./dataset/train/masks\"\n",
    "valid_image_dir = \"./dataset/validation/images\"\n",
    "valid_mask_dir = \"./dataset/validation/masks\"\n",
    "test_image_dir = \"./dataset/test/images\"\n",
    "test_mask_dir = \"./dataset/test/masks\"\n",
    "\n",
    "# Load datasets and match images with masks\n",
    "def load_data(image_dir, mask_dir):\n",
    "    image_names = sorted(os.listdir(image_dir))\n",
    "    mask_names = sorted(os.listdir(mask_dir))\n",
    "    pairs = []\n",
    "    for img_name in image_names:\n",
    "        mask_name = img_name.replace(\"image\", \"mask\")\n",
    "        if mask_name in mask_names:\n",
    "            pairs.append((os.path.join(image_dir, img_name), os.path.join(mask_dir, mask_name)))\n",
    "    data = [load_image_file(image_path, mask_path) for image_path, mask_path in pairs]\n",
    "    return data\n",
    "\n",
    "data_train = load_data(train_image_dir, train_mask_dir)\n",
    "data_valid = load_data(valid_image_dir, valid_mask_dir)\n",
    "data_test = load_data(test_image_dir, test_mask_dir)\n",
    "\n",
    "len(data_train), len(data_valid), len(data_test)"
   ],
   "id": "b28d7289a619ca09",
   "outputs": [
    {
     "data": {
      "text/plain": [
       "(1385, 396, 199)"
      ]
     },
     "execution_count": 3,
     "metadata": {},
     "output_type": "execute_result"
    }
   ],
   "execution_count": 3
  },
  {
   "metadata": {},
   "cell_type": "markdown",
   "source": "### Normalization and Image Resizing",
   "id": "c8b308c9cfb32486"
  },
  {
   "metadata": {
    "ExecuteTime": {
     "end_time": "2024-11-10T13:41:10.351787Z",
     "start_time": "2024-11-10T13:41:10.343080Z"
    }
   },
   "cell_type": "code",
   "source": [
    "# Normalize and preprocess images and masks\n",
    "image_size = 256\n",
    "mean = tf.constant([0.485, 0.456, 0.406])\n",
    "std = tf.constant([0.229, 0.224, 0.225])\n",
    "\n",
    "\n",
    "def normalize(input_image, input_mask):\n",
    "    input_image = tf.image.convert_image_dtype(input_image, tf.float32)\n",
    "    input_image = (input_image - mean) / tf.maximum(std, backend.epsilon())\n",
    "    input_mask = input_mask / 255\n",
    "    return input_image, input_mask\n",
    "\n",
    "\n",
    "def load_image(datapoint):\n",
    "    input_image = tf.image.resize(datapoint[\"image\"], (image_size, image_size))\n",
    "    input_mask = tf.image.resize(\n",
    "        datapoint[\"segmentation_mask\"],\n",
    "        (image_size, image_size),\n",
    "        method=\"bilinear\",\n",
    "    )\n",
    "    \n",
    "    input_image, input_mask = normalize(input_image, input_mask)\n",
    "    return ({\"pixel_values\": input_image}, input_mask)"
   ],
   "id": "b53a964d770faf2",
   "outputs": [],
   "execution_count": 5
  },
  {
   "metadata": {
    "ExecuteTime": {
     "end_time": "2024-11-10T13:41:17.760950Z",
     "start_time": "2024-11-10T13:41:10.423301Z"
    }
   },
   "cell_type": "code",
   "source": [
    "train_data = [load_image(datapoint) for datapoint in data_train]\n",
    "valid_data = [load_image(datapoint) for datapoint in data_valid]\n",
    "test_data = [load_image(datapoint) for datapoint in data_test]"
   ],
   "id": "5b82256e375ac5e9",
   "outputs": [],
   "execution_count": 6
  },
  {
   "metadata": {},
   "cell_type": "markdown",
   "source": "### Build input pipeline",
   "id": "def54426f243329b"
  },
  {
   "metadata": {
    "ExecuteTime": {
     "end_time": "2024-11-10T13:41:22.468722Z",
     "start_time": "2024-11-10T13:41:22.235260Z"
    }
   },
   "cell_type": "code",
   "source": [
    "batch_size = 4\n",
    "auto = tf.data.AUTOTUNE\n",
    "# Create dataset generators\n",
    "def generator(data):\n",
    "    for datapoint in data:\n",
    "        yield datapoint\n",
    "\n",
    "\n",
    "train_ds = tf.data.Dataset.from_generator(\n",
    "    lambda: generator(train_data),\n",
    "    output_types=({\"pixel_values\": tf.float32}, tf.int32),\n",
    "    output_shapes=({\"pixel_values\": (image_size, image_size, 3)}, (image_size, image_size,1))\n",
    ").cache().shuffle(batch_size * 10).batch(batch_size).repeat().prefetch(auto)\n",
    "\n",
    "valid_ds = tf.data.Dataset.from_generator(\n",
    "    lambda: generator(valid_data),\n",
    "    output_types=({\"pixel_values\": tf.float32}, tf.int32),\n",
    "    output_shapes=({\"pixel_values\": (image_size, image_size, 3)}, (image_size, image_size,1))\n",
    ").batch(batch_size).repeat().prefetch(auto)\n",
    "\n",
    "test_ds = tf.data.Dataset.from_generator(\n",
    "    lambda: generator(test_data),\n",
    "    output_types=({\"pixel_values\": tf.float32}, tf.int32),\n",
    "    output_shapes=({\"pixel_values\": (image_size, image_size, 3)}, (image_size, image_size,1))\n",
    ").batch(batch_size).prefetch(auto)\n"
   ],
   "id": "7117751c7736ec15",
   "outputs": [],
   "execution_count": 7
  },
  {
   "metadata": {
    "ExecuteTime": {
     "end_time": "2024-11-10T13:41:26.449087Z",
     "start_time": "2024-11-10T13:41:26.442085Z"
    }
   },
   "cell_type": "code",
   "outputs": [
    {
     "name": "stdout",
     "output_type": "stream",
     "text": [
      "({'pixel_values': TensorSpec(shape=(None, 256, 256, 3), dtype=tf.float32, name=None)}, TensorSpec(shape=(None, 256, 256, 1), dtype=tf.int32, name=None))\n"
     ]
    }
   ],
   "execution_count": 8,
   "source": "print(train_ds.element_spec)\n",
   "id": "6e8bec264e8cd9ec"
  },
  {
   "metadata": {},
   "cell_type": "markdown",
   "source": "## Model",
   "id": "914c45fc9d1bc4b9"
  },
  {
   "metadata": {},
   "cell_type": "code",
   "outputs": [],
   "execution_count": null,
   "source": [
    "# Image bands\n",
    "img_bands = 3\n",
    "\n",
    "# Loss function\n",
    "loss=dice_loss\n",
    "\n",
    "def unet(lr,filtersFirstLayer,input_size = (image_size,image_size,img_bands)):\n",
    "    inputs = Input(input_size, name=\"pixel_values\")\n",
    "    conv1 = Conv2D(filtersFirstLayer, 3, activation = 'relu', padding = 'same', kernel_initializer = 'glorot_normal')(inputs)\n",
    "    conv1 = Conv2D(filtersFirstLayer, 3, activation = 'relu', padding = 'same', kernel_initializer = 'glorot_normal')(conv1)\n",
    "    pool1 = MaxPooling2D(pool_size=(2, 2))(conv1)\n",
    "    conv2 = Conv2D(filtersFirstLayer*2, 3, activation = 'relu', padding = 'same', kernel_initializer = 'glorot_normal')(pool1)\n",
    "    conv2 = Conv2D(filtersFirstLayer*2, 3, activation = 'relu', padding = 'same', kernel_initializer = 'glorot_normal')(conv2)\n",
    "    pool2 = MaxPooling2D(pool_size=(2, 2))(conv2)\n",
    "    conv3 = Conv2D(filtersFirstLayer*4, 3, activation = 'relu', padding = 'same', kernel_initializer = 'glorot_normal')(pool2)\n",
    "    conv3 = Conv2D(filtersFirstLayer*4, 3, activation = 'relu', padding = 'same', kernel_initializer = 'glorot_normal')(conv3)\n",
    "    pool3 = MaxPooling2D(pool_size=(2, 2))(conv3)\n",
    "    conv4 = Conv2D(filtersFirstLayer*8, 3, activation = 'relu', padding = 'same', kernel_initializer = 'glorot_normal')(pool3)\n",
    "    conv4 = Conv2D(filtersFirstLayer*8, 3, activation = 'relu', padding = 'same', kernel_initializer = 'glorot_normal')(conv4)\n",
    "    pool4 = MaxPooling2D(pool_size=(2, 2))(conv4)\n",
    "    \n",
    "    conv5 = Conv2D(filtersFirstLayer*16, 3, activation = 'relu', padding = 'same', kernel_initializer = 'glorot_normal')(pool4)\n",
    "    conv5 = Conv2D(filtersFirstLayer*16, 3, activation = 'relu', padding = 'same', kernel_initializer = 'glorot_normal')(conv5)\n",
    "    \n",
    "    up6 = Conv2D(filtersFirstLayer*8, 2, activation = 'relu', padding = 'same', kernel_initializer = 'glorot_normal')(UpSampling2D(size = (2,2))(conv5))\n",
    "    merge6 = concatenate([conv4,up6], axis = 3)\n",
    "    conv6 = Conv2D(filtersFirstLayer*8, 3, activation = 'relu', padding = 'same', kernel_initializer = 'glorot_normal')(merge6)\n",
    "    conv6 = Conv2D(filtersFirstLayer*8, 3, activation = 'relu', padding = 'same', kernel_initializer = 'glorot_normal')(conv6)\n",
    "    \n",
    "    up7 = Conv2D(filtersFirstLayer*4, 2, activation = 'relu', padding = 'same', kernel_initializer = 'glorot_normal')(UpSampling2D(size = (2,2))(conv6))\n",
    "    merge7 = concatenate([conv3,up7], axis = 3)\n",
    "    conv7 = Conv2D(filtersFirstLayer*4, 3, activation = 'relu', padding = 'same', kernel_initializer = 'glorot_normal')(merge7)\n",
    "    conv7 = Conv2D(filtersFirstLayer*4, 3, activation = 'relu', padding = 'same', kernel_initializer = 'glorot_normal')(conv7)\n",
    "    \n",
    "    up8 = Conv2D(filtersFirstLayer*2, 2, activation = 'relu', padding = 'same', kernel_initializer = 'glorot_normal')(UpSampling2D(size = (2,2))(conv7))\n",
    "    merge8 = concatenate([conv2,up8], axis = 3)\n",
    "    conv8 = Conv2D(filtersFirstLayer*2, 3, activation = 'relu', padding = 'same', kernel_initializer = 'glorot_normal')(merge8)\n",
    "    conv8 = Conv2D(filtersFirstLayer*2, 3, activation = 'relu', padding = 'same', kernel_initializer = 'glorot_normal')(conv8)\n",
    "    \n",
    "    up9 = Conv2D(filtersFirstLayer, 2, activation = 'relu', padding = 'same', kernel_initializer = 'glorot_normal')(UpSampling2D(size = (2,2))(conv8))\n",
    "    merge9 = concatenate([conv1,up9], axis = 3)\n",
    "    conv9 = Conv2D(filtersFirstLayer, 3, activation = 'relu', padding = 'same', kernel_initializer = 'glorot_normal')(merge9)\n",
    "    conv9 = Conv2D(filtersFirstLayer, 3, activation = 'relu', padding = 'same', kernel_initializer = 'glorot_normal')(conv9)\n",
    "    conv9 = Conv2D(2, 3, activation = 'relu', padding = 'same', kernel_initializer = 'glorot_normal')(conv9)\n",
    "    conv10 = Conv2D(1, 1, activation = 'sigmoid')(conv9)\n",
    "    \n",
    "    model = Model(inputs=inputs,  outputs=conv10)\n",
    "    \n",
    "    model.compile(optimizer = Adam(learning_rate = lr), loss = loss)\n",
    "    print(\"Model input shape:\", model.input_shape)  # Expected: (None, image_size, image_size, 3)\n",
    "\n",
    "    return model"
   ],
   "id": "af48197dce70f308"
  },
  {
   "metadata": {},
   "cell_type": "code",
   "outputs": [],
   "execution_count": null,
   "source": [
    "# Training and evaluation loop parameters\n",
    "filters = [4, 8, 16, 32]\n",
    "learning_rates = [ 10e-3, 5e-4, 10e-4, 5e-5, 10e-5]\n",
    "batch_sizes = [4, 8, 16, 32]\n",
    "epochs = 5\n",
    "\n",
    "steps_per_epoch = len(train_data) // batch_size  # Number of batches per epoch\n"
   ],
   "id": "f62c6dcdb3cdba2e"
  },
  {
   "metadata": {},
   "cell_type": "code",
   "outputs": [],
   "execution_count": null,
   "source": [
    "\n",
    "for filter_count in filters:\n",
    "    for lr in learning_rates:\n",
    "        for batch in batch_sizes:\n",
    "            print(f\"Filters: {filter_count}, Learning Rate: {lr}, Batch Size: {batch}\")\n",
    "            model = unet(lr=lr, filtersFirstLayer=filter_count, input_size=(256, 256, 3))\n",
    "            early_stop = tf.keras.callbacks.EarlyStopping(monitor='val_loss', patience=30, restore_best_weights=True)\n",
    "            \n",
    "            # Save best model during training\n",
    "            checkpoint_path = f'./data/model/unet/weights/unet_filters_{filter_count}_batch_{batch}_lr_{lr}.keras'\n",
    "            model_checkpoint = tf.keras.callbacks.ModelCheckpoint(checkpoint_path, monitor='val_loss', save_best_only=True)\n",
    "\n",
    "            \n",
    "            # Train the model\n",
    "            history = model.fit(\n",
    "                train_ds,\n",
    "                validation_data=valid_ds,\n",
    "                epochs=epochs,\n",
    "                steps_per_epoch=steps_per_epoch,\n",
    "                validation_steps=len(valid_data) // batch_size,\n",
    "                callbacks=[early_stop, model_checkpoint],\n",
    "                verbose=1\n",
    "            )"
   ],
   "id": "17d0f51c0d21fad5"
  },
  {
   "metadata": {},
   "cell_type": "markdown",
   "source": "### Testing and Metric Comparison Across Checkpoints",
   "id": "a01a8fff7773f5fa"
  },
  {
   "metadata": {},
   "cell_type": "code",
   "outputs": [],
   "execution_count": null,
   "source": [
    "import os\n",
    "import pandas as pd\n",
    "import numpy as np\n",
    "\n",
    "results_dict = {\n",
    "    \"model\": [], \"batch_size\": [], \"learning_rate\": [], \"filters\": [],\n",
    "    \"precision\": [], \"recall\": [], \"f1_score\": [], \"iou_score\": []\n",
    "}\n",
    "# Metric functions (add these if not using a package like segmentation_models)\n",
    "def precision(y_true, y_pred):\n",
    "    y_pred = tf.round(y_pred)\n",
    "    true_positives = tf.reduce_sum(tf.round(y_true * y_pred))\n",
    "    predicted_positives = tf.reduce_sum(tf.round(y_pred))\n",
    "    return true_positives / (predicted_positives + tf.keras.backend.epsilon())\n",
    "\n",
    "def recall(y_true, y_pred):\n",
    "    y_pred = tf.round(y_pred)\n",
    "    true_positives = tf.reduce_sum(tf.round(y_true * y_pred))\n",
    "    possible_positives = tf.reduce_sum(tf.round(y_true))\n",
    "    return true_positives / (tf.cast(possible_positives,tf.float32) + tf.keras.backend.epsilon())\n",
    "\n",
    "def f1_score(y_true, y_pred):\n",
    "    p = precision(y_true, y_pred)\n",
    "    r = recall(y_true, y_pred)\n",
    "    return 2 * ((p * r) / (p + r + tf.keras.backend.epsilon()))\n",
    "\n",
    "def iou_score(y_true, y_pred): \n",
    "    y_pred = tf.round(y_pred)\n",
    "    intersection = tf.reduce_sum(y_true * y_pred)\n",
    "    union = tf.reduce_sum(y_true + y_pred) - intersection\n",
    "    return intersection / (union + tf.keras.backend.epsilon())\n",
    "\n",
    "checkpoint_path = f'./data/model/unet/weights'\n",
    "for filename in os.listdir(checkpoint_path):\n",
    "    # Only load files with the proper model file extension\n",
    "    if filename.endswith(\".keras\"):     \n",
    "        # Define the model structure\n",
    "        filter_count = int(filename.split('_')[2])\n",
    "        lr = float(filename.split('_')[6].split('.keras')[0])\n",
    "        batch = int(filename.split('_')[4])\n",
    "        model = unet(lr=lr, filtersFirstLayer=filter_count, input_size=(256, 256, 3))\n",
    "        \n",
    "        # Load best model weights\n",
    "        model.load_weights(os.path.join(checkpoint_path, filename))\n",
    "        print(f\"Evaluating model with checkpoint: {filename}\")\n",
    "        \n",
    "        # Evaluate on test data\n",
    "        y_true = []\n",
    "        y_pred = []\n",
    "        for sample in test_ds:\n",
    "            pred = model.predict(sample[0][\"pixel_values\"], verbose=0)\n",
    "            y_true.append(sample[1].numpy())\n",
    "            y_pred.append(pred)\n",
    "        \n",
    "        y_true = np.concatenate(y_true, axis=0)\n",
    "        y_pred = np.concatenate(y_pred, axis=0)\n",
    "        \n",
    "         # Ensure both y_true and y_pred have the same shape for metrics\n",
    "        if y_pred.shape[-1] == 1:\n",
    "            y_pred = np.squeeze(y_pred, axis=-1)  # Remove the last dimension if it's 1\n",
    "        if y_true.shape[-1] == 1:\n",
    "            y_true = np.squeeze(y_true, axis=-1)\n",
    "            \n",
    "        # Compute and collect metrics\n",
    "        precision_val = precision(y_true, y_pred).numpy()\n",
    "        recall_val = recall(y_true, y_pred).numpy()\n",
    "        f1_val = f1_score(y_true, y_pred).numpy()\n",
    "        iou_val = iou_score(y_true, y_pred).numpy()\n",
    "        \n",
    "        results_dict[\"precision\"].append(precision_val)\n",
    "        results_dict[\"recall\"].append(recall_val)\n",
    "        results_dict[\"f1_score\"].append(f1_val)\n",
    "        results_dict[\"iou_score\"].append(iou_val)\n",
    "        \n",
    "        results_dict[\"model\"].append(\"U-Net\")\n",
    "        results_dict[\"batch_size\"].append(batch)\n",
    "        results_dict[\"learning_rate\"].append(lr)\n",
    "        results_dict[\"filters\"].append(filter_count)\n",
    "        \n",
    "# Convert results_dict to DataFrame and save as CSV\n",
    "results_df = pd.DataFrame(results_dict)\n",
    "results_df.to_csv(\"data/model/unet/results/results_unet.csv\", index=False)\n",
    "\n",
    "print(\"Validation and metric calculation completed, results saved.\")"
   ],
   "id": "e227e049c276f459"
  }
 ],
 "metadata": {
  "kernelspec": {
   "display_name": "Python 3",
   "language": "python",
   "name": "python3"
  },
  "language_info": {
   "codemirror_mode": {
    "name": "ipython",
    "version": 2
   },
   "file_extension": ".py",
   "mimetype": "text/x-python",
   "name": "python",
   "nbconvert_exporter": "python",
   "pygments_lexer": "ipython2",
   "version": "2.7.6"
  }
 },
 "nbformat": 4,
 "nbformat_minor": 5
}
